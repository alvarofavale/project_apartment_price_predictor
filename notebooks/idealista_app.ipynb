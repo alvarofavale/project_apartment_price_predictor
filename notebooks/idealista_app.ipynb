{
 "cells": [
  {
   "cell_type": "code",
   "execution_count": null,
   "id": "4b76d95a-1c74-429c-873d-f3fbe4016476",
   "metadata": {},
   "outputs": [],
   "source": [
    "# IMPORT LIBRARIES\n",
    "import pandas as pd\n",
    "import os\n",
    "import numpy as np\n",
    "import pickle\n",
    "import plotly.express as px\n",
    "from matplotlib import pyplot as plt\n",
    "from scipy import stats\n",
    "import seaborn as sns\n",
    "from scipy.stats import skew, kurtosis\n",
    "from scipy.stats import mannwhitneyu\n",
    "from scipy.stats import ttest_ind\n",
    "from scipy.stats import pearsonr\n",
    "from scipy.stats import spearmanr\n",
    "from sklearn.preprocessing import OneHotEncoder, LabelEncoder\n",
    "from sklearn.preprocessing import MinMaxScaler, StandardScaler\n",
    "from sklearn.model_selection import GridSearchCV, train_test_split\n",
    "from sklearn.linear_model import LinearRegression\n",
    "from sklearn.tree import DecisionTreeRegressor\n",
    "from sklearn.ensemble import RandomForestRegressor\n",
    "from sklearn.model_selection import cross_val_score, KFold\n",
    "import xgboost as xgb\n",
    "from sklearn.metrics import mean_squared_error, mean_absolute_error, r2_score"
   ]
  },
  {
   "cell_type": "code",
   "execution_count": null,
   "id": "71b2ddf2-1ea3-4d84-9852-92c2708316b9",
   "metadata": {},
   "outputs": [],
   "source": [
    "df_ml = pd.read_csv(r\"C:\\Users\\faval\\Desktop\\Ironhack\\DataAnalytics\\final_project\\data\\clean\\transformed_idealista_output_etl.csv\", low_memory=False)\n",
    "provinces_map = pd.read_excel(r\"C:\\Users\\faval\\Desktop\\Ironhack\\DataAnalytics\\final_project\\data\\clean\\df_provinces_mapping_ipv.xls\")"
   ]
  },
  {
   "cell_type": "code",
   "execution_count": null,
   "id": "da71b246-c462-459e-9c55-b5f9e515c571",
   "metadata": {},
   "outputs": [],
   "source": [
    "pd.set_option('display.float_format', lambda x: '%.2f' % x)"
   ]
  },
  {
   "cell_type": "code",
   "execution_count": null,
   "id": "41c2b68b-ed7a-41c9-8218-19ddb0f5036f",
   "metadata": {},
   "outputs": [],
   "source": [
    "# Identify your target variable and features\n",
    "X = df_ml.drop(columns=['ad_price_cap_log'])  # Features\n",
    "y = df_ml['ad_price_cap_log']  # Target variable\n",
    "# Step 1: Split the data into training and testing sets\n",
    "X_train, X_test, y_train, y_test = train_test_split(X, y, test_size=0.20, random_state=42)"
   ]
  },
  {
   "cell_type": "code",
   "execution_count": null,
   "id": "d8f90e0e-08e7-4193-9780-16a8dcf4ea1e",
   "metadata": {},
   "outputs": [],
   "source": [
    "# Load the model\n",
    "model_file_path = r\"C:\\Users\\faval\\Desktop\\Ironhack\\DataAnalytics\\final_project\\moDels\\rf_model.pkl\"\n",
    "with open(model_file_path, \"rb\") as file:\n",
    "    rf_model = pickle.load(file)\n",
    "# Use the loaded model for predictions\n",
    "y_pred_loaded = rf_model.predict(X_test)"
   ]
  },
  {
   "cell_type": "markdown",
   "id": "48a6d697-6045-448e-8b11-bf38022f6d58",
   "metadata": {},
   "source": [
    "**INPUT FEATURES**"
   ]
  },
  {
   "cell_type": "code",
   "execution_count": 53,
   "id": "c2f353c7-4d40-43fa-81c0-3e7336105b75",
   "metadata": {},
   "outputs": [
    {
     "name": "stdout",
     "output_type": "stream",
     "text": [
      "Please enter the features for the apartment:\n"
     ]
    },
    {
     "name": "stdin",
     "output_type": "stream",
     "text": [
      "Province name 29\n",
      "Enter the postal code:  28015\n",
      "Is it a new construction? (1 for Yes, 0 for No):  0\n",
      "Does it have a garden? (1 for Yes, 0 for No):  0\n",
      "Does it have a parking space? (1 for Yes, 0 for No):  0\n",
      "Does it have a swimming pool? (1 for Yes, 0 for No):  0\n",
      "Enter the area of the apartment (in square meters):  80\n",
      "Enter the number of rooms:  2\n",
      "Enter the number of bathrooms:  2\n",
      "Enter the floor number:  5\n",
      "Does it have a lift? (1 for Yes, 0 for No):  1\n",
      "Does it have a terrace? (1 for Yes, 0 for No):  0\n",
      "Is it on the top floor? (1 for Yes, 0 for No):  0\n"
     ]
    }
   ],
   "source": [
    "print(\"Please enter the features for the apartment:\")\n",
    "# Example features to prompt (replace these with actual feature names)\n",
    "features = {'ad_province': int(input(\"Province name\")),\n",
    "    'ad_postalcode': int(input(\"Enter the postal code: \")),\n",
    "    'ad_newconstruction': int(input(\"Is it a new construction? (1 for Yes, 0 for No): \")),\n",
    "    'ad_hasgarden': int(input(\"Does it have a garden? (1 for Yes, 0 for No): \")),\n",
    "    'ad_hasparkingspace': int(input(\"Does it have a parking space? (1 for Yes, 0 for No): \")),\n",
    "    'ad_hasswimmingpool': int(input(\"Does it have a swimming pool? (1 for Yes, 0 for No): \")),\n",
    "    'ad_area': float(input(\"Enter the area of the apartment (in square meters): \")),\n",
    "    'ad_roomnumber': int(input(\"Enter the number of rooms: \")),\n",
    "    'ad_bathnumber': int(input(\"Enter the number of bathrooms: \")),\n",
    "    'ad_floornumber': int(input(\"Enter the floor number: \")),\n",
    "    'ad_haslift': int(input(\"Does it have a lift? (1 for Yes, 0 for No): \")),\n",
    "    'ad_hasterrace': int(input(\"Does it have a terrace? (1 for Yes, 0 for No): \")),\n",
    "    'ad_isintopfloor': int(input(\"Is it on the top floor? (1 for Yes, 0 for No): \")),}"
   ]
  },
  {
   "cell_type": "code",
   "execution_count": 55,
   "id": "af6379df-94cd-4e02-aa42-7e00a07e375c",
   "metadata": {},
   "outputs": [],
   "source": [
    "# Apply inverse Min-Max scaling for the transformed features\n",
    "ad_area_min, ad_area_max = 15, 1485\n",
    "ad_roomnumber_min, ad_roomnumber_max = 0, 99\n",
    "ad_bathnumber_min, ad_bathnumber_max = 0, 401\n",
    "ad_floornumber_min, ad_floornumber_max = 0, 60\n",
    "\n",
    "# Inverse transform for each scaled feature\n",
    "features_adapted = {'ad_province': features['ad_province'],\n",
    "    'ad_postalcode': features['ad_postalcode'], \n",
    "    'ad_newconstruction': features['ad_newconstruction'], \n",
    "    'ad_hasgarden': features['ad_hasgarden'],\n",
    "    'ad_hasparkingspace': features['ad_hasparkingspace'], \n",
    "    'ad_hasswimmingpool': features['ad_hasswimmingpool'], \n",
    "    'ad_area': (features['ad_area'] - ad_area_min) / (ad_area_max - ad_area_min),\n",
    "    'ad_roomnumber': (features['ad_roomnumber'] - ad_roomnumber_min) / (ad_roomnumber_max - ad_roomnumber_min),\n",
    "    'ad_bathnumber': (features['ad_bathnumber'] - ad_bathnumber_min) / (ad_bathnumber_max - ad_bathnumber_min),\n",
    "    'ad_floornumber': (features['ad_floornumber'] - ad_floornumber_min) / (ad_floornumber_max - ad_floornumber_min),\n",
    "    'ad_haslift': features['ad_haslift'],  \n",
    "    'ad_hasterrace': features['ad_hasterrace'], \n",
    "    'ad_isintopfloor': features['ad_isintopfloor']}"
   ]
  },
  {
   "cell_type": "code",
   "execution_count": 57,
   "id": "8957a1cc-e7e7-46bb-974b-b9942163213e",
   "metadata": {},
   "outputs": [],
   "source": [
    "# Create a DataFrame from the user input\n",
    "input_data = pd.DataFrame([features_adapted])"
   ]
  },
  {
   "cell_type": "code",
   "execution_count": 59,
   "id": "05c2915f-8708-4009-a290-e78059f89dcb",
   "metadata": {},
   "outputs": [],
   "source": [
    "# Step 3: Make prediction\n",
    "predicted_price_log = rf_model.predict(input_data)"
   ]
  },
  {
   "cell_type": "markdown",
   "id": "714751a5-b502-44d7-a52f-f20eddb97ca9",
   "metadata": {},
   "source": [
    "**PREDICTED PRICE**"
   ]
  },
  {
   "cell_type": "code",
   "execution_count": 61,
   "id": "e52e07d6-14df-469e-95b6-9916c75a5b66",
   "metadata": {},
   "outputs": [
    {
     "name": "stdout",
     "output_type": "stream",
     "text": [
      "The predicted price of the apartment is: 522652.14\n"
     ]
    }
   ],
   "source": [
    "predicted_price = np.exp(predicted_price_log) - 1  # If you applied log transformation before training\n",
    "print(f\"The predicted price of the apartment is: {predicted_price[0]:.2f}\")"
   ]
  },
  {
   "cell_type": "markdown",
   "id": "27d3ff36-eb6a-4238-bbfe-f1dd40d16d21",
   "metadata": {},
   "source": [
    "**INDEX ADJUSTED PREDICTED PRICE**"
   ]
  },
  {
   "cell_type": "code",
   "execution_count": 63,
   "id": "6b710292-8fe8-47bf-bc08-e7f337e933c3",
   "metadata": {},
   "outputs": [
    {
     "name": "stdout",
     "output_type": "stream",
     "text": [
      "The adjusted predicted price of the apartment is: 561328.39\n"
     ]
    }
   ],
   "source": [
    "province_code = features['ad_province']\n",
    "ipv_value = provinces_map.loc[provinces_map['Code'] == province_code, 'IPV'].values\n",
    "if len(ipv_value) > 0:\n",
    "    ipv = ipv_value[0] \n",
    "    adjusted_price = predicted_price * (1 + ipv / 100) \n",
    "    print(f\"The adjusted predicted price of the apartment is: {adjusted_price[0]:.2f}\")\n",
    "else:\n",
    "    print(\"No price index variation found for the provided province code.\")"
   ]
  },
  {
   "cell_type": "code",
   "execution_count": null,
   "id": "513f7e77-5e93-4bf5-a6d2-b1e09c8fbff1",
   "metadata": {},
   "outputs": [],
   "source": []
  },
  {
   "cell_type": "code",
   "execution_count": null,
   "id": "724584a9-efeb-43ea-a9f5-a50fa46f1a66",
   "metadata": {},
   "outputs": [],
   "source": []
  }
 ],
 "metadata": {
  "kernelspec": {
   "display_name": "Python 3 (ipykernel)",
   "language": "python",
   "name": "python3"
  },
  "language_info": {
   "codemirror_mode": {
    "name": "ipython",
    "version": 3
   },
   "file_extension": ".py",
   "mimetype": "text/x-python",
   "name": "python",
   "nbconvert_exporter": "python",
   "pygments_lexer": "ipython3",
   "version": "3.12.3"
  }
 },
 "nbformat": 4,
 "nbformat_minor": 5
}
