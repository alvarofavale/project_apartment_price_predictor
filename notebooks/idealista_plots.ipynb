{
 "cells": [
  {
   "cell_type": "code",
   "execution_count": 1,
   "id": "06493cb2-26e2-406e-877a-7be84393ba22",
   "metadata": {},
   "outputs": [],
   "source": [
    "# IMPORT LIBRARIES\n",
    "import pandas as pd\n",
    "import os\n",
    "import numpy as np\n",
    "import pickle\n",
    "import plotly.express as px\n",
    "from matplotlib import pyplot as plt\n",
    "from scipy import stats\n",
    "import seaborn as sns\n",
    "import geopandas as gpd"
   ]
  },
  {
   "cell_type": "code",
   "execution_count": 2,
   "id": "6771187d-babe-4cbf-bed8-08d471045cbd",
   "metadata": {},
   "outputs": [],
   "source": [
    "df = pd.read_csv(r\"C:\\Users\\faval\\Desktop\\Ironhack\\DataAnalytics\\final_project\\data\\clean\\clean_idealista_output_etl.csv\", low_memory=False)\n",
    "provinces_map = pd.read_excel(r\"C:\\Users\\faval\\Desktop\\Ironhack\\DataAnalytics\\final_project\\data\\clean\\df_provinces_mapping_ipv.xls\")\n",
    "df_plots = df.copy()"
   ]
  },
  {
   "cell_type": "code",
   "execution_count": 3,
   "id": "4f50674d-9a24-4caa-8152-7c9d1c60d0fb",
   "metadata": {},
   "outputs": [],
   "source": [
    "pd.set_option('display.float_format', lambda x: '%.2f' % x)"
   ]
  },
  {
   "cell_type": "code",
   "execution_count": 4,
   "id": "a7808c9c-bd86-4808-a761-cac20059de42",
   "metadata": {},
   "outputs": [],
   "source": [
    "df_plots['ad_activationdate'] = pd.to_datetime(df_plots['ad_activationdate'], format='%Y-%m-%d')\n",
    "# List of Boolean columns to transform\n",
    "boolean_columns = [\n",
    "    'ad_newconstruction',\n",
    "    'ad_hasgarden',\n",
    "    'ad_hasparkingspace',\n",
    "    'ad_hasswimmingpool',\n",
    "    'ad_haslift',\n",
    "    'ad_hasterrace',\n",
    "    'ad_isintopfloor']\n",
    "# Replace True/False with 1/0 for each specified Boolean column\n",
    "for col in boolean_columns:\n",
    "    df_plots[col] = df_plots[col].astype(int)\n",
    "df_plots['ad_postalcode'] = df_plots['ad_postalcode'].replace(['Desconocido', 'ad200', 'ad400', 'ad500'], pd.NA)\n",
    "df_plots = df_plots.dropna(subset=['ad_postalcode'])\n",
    "df_plots['ad_postalcode'] = df_plots['ad_postalcode'].astype(int)"
   ]
  },
  {
   "cell_type": "code",
   "execution_count": 9,
   "id": "0a856060-0bd2-4488-b08a-f782d4e59567",
   "metadata": {},
   "outputs": [],
   "source": [
    "df_plots = df_plots[df_plots['ad_price'] <= 2000000]"
   ]
  },
  {
   "cell_type": "code",
   "execution_count": 11,
   "id": "746346ec-6be1-4627-b0f1-51e3b0b49e5f",
   "metadata": {},
   "outputs": [],
   "source": [
    "provinces_map.rename(columns={'Province': 'ad_province'}, inplace=True)"
   ]
  },
  {
   "cell_type": "code",
   "execution_count": 15,
   "id": "5fd7f4ac-4a48-4748-af3c-37bf131ad22a",
   "metadata": {},
   "outputs": [],
   "source": [
    "df_plots = df_plots.merge(provinces_map[['ad_province', 'Code', 'CCAA', 'IPV']], on='ad_province', how='left')"
   ]
  },
  {
   "cell_type": "code",
   "execution_count": 19,
   "id": "c282f3b0-c296-44a2-8ea4-aa019bb5815b",
   "metadata": {},
   "outputs": [],
   "source": [
    "df_plots['unit_price'] = df_plots['ad_price'] / df_plots['ad_area']"
   ]
  },
  {
   "cell_type": "code",
   "execution_count": 26,
   "id": "7ad55a16-bffb-4f4c-bfc1-a5ac325fcf3e",
   "metadata": {},
   "outputs": [],
   "source": [
    "save_path = r'C:\\Users\\faval\\Desktop\\Ironhack\\DataAnalytics\\final_project\\data\\clean'\n",
    "file_name = 'df_plots.csv'\n",
    "full_path = os.path.join(save_path, file_name)\n",
    "df_plots.to_csv(full_path, index=False, encoding='utf-8')"
   ]
  }
 ],
 "metadata": {
  "kernelspec": {
   "display_name": "Python 3 (ipykernel)",
   "language": "python",
   "name": "python3"
  },
  "language_info": {
   "codemirror_mode": {
    "name": "ipython",
    "version": 3
   },
   "file_extension": ".py",
   "mimetype": "text/x-python",
   "name": "python",
   "nbconvert_exporter": "python",
   "pygments_lexer": "ipython3",
   "version": "3.12.3"
  }
 },
 "nbformat": 4,
 "nbformat_minor": 5
}
