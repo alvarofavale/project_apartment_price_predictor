{
 "cells": [
  {
   "cell_type": "code",
   "execution_count": 2,
   "id": "e77da939-26a3-4fb1-8276-3942ed27eb5a",
   "metadata": {},
   "outputs": [],
   "source": [
    "# IMPORT LIBRARIES\n",
    "import pandas as pd\n",
    "import os\n",
    "import numpy as np\n",
    "import pickle\n",
    "import plotly.express as px\n",
    "from matplotlib import pyplot as plt\n",
    "from scipy import stats\n",
    "import seaborn as sns\n",
    "from scipy.stats import skew, kurtosis\n",
    "from scipy.stats import mannwhitneyu\n",
    "from scipy.stats import ttest_ind\n",
    "from scipy.stats import pearsonr\n",
    "from scipy.stats import spearmanr\n",
    "from sklearn.preprocessing import OneHotEncoder, LabelEncoder\n",
    "from sklearn.preprocessing import MinMaxScaler, StandardScaler\n",
    "from sklearn.model_selection import GridSearchCV, train_test_split\n",
    "from sklearn.linear_model import LinearRegression\n",
    "from sklearn.tree import DecisionTreeRegressor\n",
    "from sklearn.ensemble import RandomForestRegressor\n",
    "from sklearn.model_selection import cross_val_score, KFold\n",
    "import xgboost as xgb\n",
    "from sklearn.metrics import mean_squared_error, mean_absolute_error, r2_score\n",
    "import optuna\n",
    "import time"
   ]
  },
  {
   "cell_type": "code",
   "execution_count": 3,
   "id": "2089f301-aa72-43e0-b297-cd7c0797b708",
   "metadata": {},
   "outputs": [],
   "source": [
    "df_ml = pd.read_csv(r\"C:\\Users\\faval\\Desktop\\Ironhack\\DataAnalytics\\final_project\\data\\clean\\transformed_idealista_output_etl.csv\", low_memory=False)"
   ]
  },
  {
   "cell_type": "code",
   "execution_count": 4,
   "id": "f84a2d9e-1ac9-4161-85ac-2123717ed868",
   "metadata": {},
   "outputs": [],
   "source": [
    "pd.set_option('display.float_format', lambda x: '%.2f' % x)"
   ]
  },
  {
   "cell_type": "code",
   "execution_count": null,
   "id": "7f323478-1cb8-4884-9362-aa1c1912267b",
   "metadata": {},
   "outputs": [],
   "source": [
    "df_ml.info()"
   ]
  },
  {
   "cell_type": "code",
   "execution_count": null,
   "id": "2c22f368-c369-4613-8179-99456ad1a5fe",
   "metadata": {},
   "outputs": [],
   "source": [
    "df_ml[\"ad_price_cap_log\"].describe()"
   ]
  },
  {
   "cell_type": "markdown",
   "id": "1b7a29c3-d4e6-4108-a0e9-6de2f24e0992",
   "metadata": {},
   "source": [
    "## MACHINE LEARNING MODELS"
   ]
  },
  {
   "cell_type": "markdown",
   "id": "073d03cf-08a0-474e-8090-b3819de427b6",
   "metadata": {},
   "source": [
    "**CHECKING NORMAL DISTRIBUTION**"
   ]
  },
  {
   "cell_type": "code",
   "execution_count": null,
   "id": "162fae26-3a53-4736-9779-9d200e8a010d",
   "metadata": {},
   "outputs": [],
   "source": [
    "# Histogram\n",
    "plt.figure(figsize=(10, 5))\n",
    "sns.histplot(df_ml['ad_price_cap_log'], kde=True)\n",
    "plt.title('Histogram of ad_price_cap_log')\n",
    "plt.xlabel('ad_price_cap_log')\n",
    "plt.ylabel('Frequency')\n",
    "plt.show()\n",
    "\n",
    "# Q-Q Plot\n",
    "plt.figure(figsize=(6, 6))\n",
    "stats.probplot(df_ml['ad_price_cap_log'], dist=\"norm\", plot=plt)\n",
    "plt.title('Q-Q Plot')\n",
    "plt.show()"
   ]
  },
  {
   "cell_type": "code",
   "execution_count": null,
   "id": "9efad538-def5-4d1f-b25b-b970ee7a0aef",
   "metadata": {},
   "outputs": [],
   "source": [
    "# Shapiro-Wilk Test\n",
    "shapiro_test = stats.shapiro(df_ml['ad_price_cap_log'].dropna())\n",
    "print(f\"Shapiro-Wilk Test: Statistic={shapiro_test.statistic}, p-value={shapiro_test.pvalue}\")"
   ]
  },
  {
   "cell_type": "code",
   "execution_count": null,
   "id": "3acd0dcb-8cf5-4dc5-bbd1-99e5d7304212",
   "metadata": {},
   "outputs": [],
   "source": [
    "# Kolmogorov-Smirnov Test\n",
    "ks_test = stats.kstest(df_ml['ad_price_cap_log'].dropna(), 'norm', args=(df_ml['ad_price_cap_log'].mean(), df_ml['ad_price_cap_log'].std()))\n",
    "print(f\"Kolmogorov-Smirnov Test: Statistic={ks_test.statistic}, p-value={ks_test.pvalue}\")"
   ]
  },
  {
   "cell_type": "code",
   "execution_count": null,
   "id": "e9c6564e-ab08-44dd-bc34-760dfa956d5a",
   "metadata": {},
   "outputs": [],
   "source": [
    "# Anderson-Darling Test\n",
    "ad_test = stats.anderson(df_ml['ad_price_cap_log'].dropna(), dist='norm')\n",
    "print(f\"Anderson-Darling Test: Statistic={ad_test.statistic}, Critical Values={ad_test.critical_values}, Significance Levels={ad_test.significance_level}\")"
   ]
  },
  {
   "cell_type": "markdown",
   "id": "91adce33-1e77-4dba-bf9e-b8fec1536de8",
   "metadata": {},
   "source": [
    "NOT NORMAL DISTRIBUTION"
   ]
  },
  {
   "cell_type": "markdown",
   "id": "d5e138c6-16ff-42ad-8a77-a4ddbb803a07",
   "metadata": {},
   "source": [
    "**TRAIN/TEST SPLIT**"
   ]
  },
  {
   "cell_type": "code",
   "execution_count": 8,
   "id": "a65c2ff2-1720-43ae-9c07-b4f534aa7540",
   "metadata": {},
   "outputs": [],
   "source": [
    "# Identify your target variable and features\n",
    "X = df_ml.drop(columns=['ad_price_cap_log'])  # Features\n",
    "y = df_ml['ad_price_cap_log']  # Target variable\n",
    "# Step 1: Split the data into training and testing sets\n",
    "X_train, X_test, y_train, y_test = train_test_split(X, y, test_size=0.20, random_state=42)"
   ]
  },
  {
   "cell_type": "markdown",
   "id": "9e9514a7-9446-4156-bb28-17f78e207fe3",
   "metadata": {},
   "source": [
    "**1. LINEAR REGRESSION**"
   ]
  },
  {
   "cell_type": "code",
   "execution_count": 10,
   "id": "19021c11-e073-4d81-81e7-9f555906b4f4",
   "metadata": {},
   "outputs": [],
   "source": [
    "linear_model = LinearRegression()\n",
    "linear_model.fit(X_train, y_train)\n",
    "y_pred_linear = linear_model.predict(X_test)\n",
    "y_pred_linear_real = np.e"
   ]
  },
  {
   "cell_type": "code",
   "execution_count": 12,
   "id": "e724c399-79e7-4892-8fc9-1ff4c7de4a1f",
   "metadata": {},
   "outputs": [
    {
     "name": "stdout",
     "output_type": "stream",
     "text": [
      "Linear Regression Metrics:\n",
      "MAE: 0.45429428975351177\n",
      "MSE: 0.4837013595097949\n",
      "R²: 0.19695836079925344\n"
     ]
    }
   ],
   "source": [
    "# Evaluate Linear Regression\n",
    "print(\"Linear Regression Metrics:\")\n",
    "print(\"MAE:\", mean_absolute_error(y_test, y_pred_linear))\n",
    "print(\"MSE:\", mean_squared_error(y_test, y_pred_linear))\n",
    "print(\"R²:\", r2_score(y_test, y_pred_linear))"
   ]
  },
  {
   "cell_type": "markdown",
   "id": "dc1b8d51-97ad-4526-9c48-9b88a23a6f6b",
   "metadata": {},
   "source": [
    "The model's performance, as indicated by these metrics, shows that while it is able to make predictions, the accuracy and explanatory power are relatively weak."
   ]
  },
  {
   "cell_type": "markdown",
   "id": "5fc562ba-7637-4615-aaa4-90de30c80aa3",
   "metadata": {},
   "source": [
    "**2. DECISION TREE**"
   ]
  },
  {
   "cell_type": "code",
   "execution_count": 14,
   "id": "9acfc251-9f53-44f0-a4d9-2565ed4b0a84",
   "metadata": {},
   "outputs": [],
   "source": [
    "decision_tree_model = DecisionTreeRegressor(random_state=42)\n",
    "decision_tree_model.fit(X_train, y_train)\n",
    "y_pred_tree = decision_tree_model.predict(X_test)"
   ]
  },
  {
   "cell_type": "code",
   "execution_count": 15,
   "id": "43535052-8920-4b3d-9777-8ae60447febd",
   "metadata": {},
   "outputs": [
    {
     "name": "stdout",
     "output_type": "stream",
     "text": [
      "Decision Tree Regression Metrics:\n",
      "MAE: 0.23890890652157504\n",
      "MSE: 0.1404406781728445\n",
      "R²: 0.7668401996540144\n"
     ]
    }
   ],
   "source": [
    "#Evaluate model performance\n",
    "print(\"Decision Tree Regression Metrics:\")\n",
    "print(\"MAE:\", mean_absolute_error(y_test, y_pred_tree))\n",
    "print(\"MSE:\", mean_squared_error(y_test, y_pred_tree))\n",
    "print(\"R²:\", r2_score(y_test, y_pred_tree))"
   ]
  },
  {
   "cell_type": "markdown",
   "id": "26eb2330-fcd7-473b-b290-a7f3f996ab7c",
   "metadata": {},
   "source": [
    "**3. RANDOM FOREST REGRESSION**"
   ]
  },
  {
   "cell_type": "code",
   "execution_count": null,
   "id": "99cd3b7b-98f9-42b7-af2c-6b27d5b80a00",
   "metadata": {},
   "outputs": [],
   "source": [
    "best_params = {\n",
    "    'n_estimators': 148,\n",
    "    'criterion': 'squared_error',  # Keep the criterion as is\n",
    "    'max_depth': 32,\n",
    "    'min_samples_split': 5,\n",
    "    'min_samples_leaf': 1,\n",
    "    'random_state': 42}\n",
    "# Create and fit the RandomForestRegressor with the best parameters\n",
    "rf_model = RandomForestRegressor(**best_params)\n",
    "rf_model.fit(X_train, y_train)\n",
    "rf_model.fit(X_train, y_train)\n",
    "y_pred_rf = rf_model.predict(X_test)"
   ]
  },
  {
   "cell_type": "code",
   "execution_count": null,
   "id": "0409b3c0-9259-480a-880e-8107464bf2bb",
   "metadata": {},
   "outputs": [],
   "source": [
    "# Evaluate Random Forest\n",
    "print(\"\\nRandom Forest Regression Metrics:\")\n",
    "print(\"MAE:\", mean_absolute_error(y_test, y_pred_rf))\n",
    "print(\"MSE:\", mean_squared_error(y_test, y_pred_rf))\n",
    "print(\"R²:\", r2_score(y_test, y_pred_rf))"
   ]
  },
  {
   "cell_type": "markdown",
   "id": "f893bd07-bad7-4e98-b1be-b81173c422aa",
   "metadata": {},
   "source": [
    "**Random Forest Regression Metrics (Default Parameters):**\n",
    "\n",
    "MAE: 0.19312418477312485\n",
    "\n",
    "MSE: 0.08086409575163846\n",
    "\n",
    "R²: 0.8657493208811895"
   ]
  },
  {
   "cell_type": "markdown",
   "id": "ee4ba8a2-e41b-4a8d-a721-90aff4f56ea3",
   "metadata": {},
   "source": [
    "**Random Forest Regression Metrics (Best Parameters):**\n",
    "\n",
    "\n",
    "MAE: 0.1948369893250351\n",
    "\n",
    "5\r\n",
    "MSE: 0.080270796991507\n",
    "\n",
    "88\r\n",
    "R²: 0.866734316270398"
   ]
  },
  {
   "cell_type": "markdown",
   "id": "7efeebc2-d9cd-490f-a884-23233ae44b22",
   "metadata": {},
   "source": [
    "**4. XGBOOST MODEL**"
   ]
  },
  {
   "cell_type": "code",
   "execution_count": 18,
   "id": "e85fb38d-0fc3-4dcb-a251-96f5b42979b2",
   "metadata": {},
   "outputs": [],
   "source": [
    "xgboost_model = xgb.XGBRegressor(objective='reg:squarederror', random_state=42)\n",
    "xgboost_model.fit(X_train, y_train)\n",
    "y_pred_xgb = xgboost_model.predict(X_test)"
   ]
  },
  {
   "cell_type": "code",
   "execution_count": 20,
   "id": "afffa3f6-3519-48ca-8cc3-ca67073a7f96",
   "metadata": {},
   "outputs": [
    {
     "name": "stdout",
     "output_type": "stream",
     "text": [
      "XGBoost Regression Metrics:\n",
      "MAE: 0.2670721427959723\n",
      "MSE: 0.12375955711987068\n",
      "R²: 0.7945342189713509\n"
     ]
    }
   ],
   "source": [
    "#Evaluate model performance\n",
    "print(\"XGBoost Regression Metrics:\")\n",
    "print(\"MAE:\", mean_absolute_error(y_test, y_pred_xgb))\n",
    "print(\"MSE:\", mean_squared_error(y_test, y_pred_xgb))\n",
    "print(\"R²:\", r2_score(y_test, y_pred_xgb))"
   ]
  },
  {
   "cell_type": "markdown",
   "id": "661042b4-f080-409c-aa49-47e6ae139a01",
   "metadata": {},
   "source": [
    "Based on the metrics and interpretations, I will choose the Random Forest model for predicting apartment prices.\n",
    "\n",
    "Its stronger performance metrics indicate that it is more capable of handling the complexities of the data and capturing non-linear relationships."
   ]
  },
  {
   "cell_type": "markdown",
   "id": "89ee53f4-2768-48cb-b8c9-4c7ec9ae6bd9",
   "metadata": {},
   "source": [
    "**CROSS VALIDATION**"
   ]
  },
  {
   "cell_type": "code",
   "execution_count": null,
   "id": "10a55f8a-62ed-4c07-bea2-7e37bae40a76",
   "metadata": {},
   "outputs": [],
   "source": [
    "rf_model = RandomForestRegressor(random_state=42)\n",
    "kf = KFold(n_splits=5, shuffle=True, random_state=42)  # 5-fold cross-validation\n",
    "cv_scores = cross_val_score(rf_model, X, y, cv=kf, scoring='neg_mean_absolute_error')\n",
    "mae_scores = -cv_scores"
   ]
  },
  {
   "cell_type": "code",
   "execution_count": null,
   "id": "efa606ee-e58b-4465-92e8-47c768e52376",
   "metadata": {},
   "outputs": [],
   "source": [
    "#Evaluate cross-validation results\n",
    "print(\"Cross-Validation MAE Scores:\", mae_scores)\n",
    "print(\"Mean MAE:\", mae_scores.mean())"
   ]
  },
  {
   "cell_type": "markdown",
   "id": "ec863c0a-995d-44fd-a730-a71ad3954b7a",
   "metadata": {},
   "source": [
    "Cross-Validation MAE Scores: [0.19300451 0.19281122 0.19070589 0.19217698 0.19240987]\n",
    "\n",
    "Mean MAE: 0.19222169438252262"
   ]
  },
  {
   "cell_type": "markdown",
   "id": "2c5bffaf-db5a-4266-a6b3-ea5b67710876",
   "metadata": {},
   "source": [
    "The consistency of these scores across different folds indicates that your model performs reliably on different subsets of your data, which is a good sign of robustness."
   ]
  },
  {
   "cell_type": "markdown",
   "id": "b3d83a6a-705c-458e-b53e-5929a1f34126",
   "metadata": {},
   "source": [
    "**HYPERPARAMETER TUNING FOR RANDOM FOREST**"
   ]
  },
  {
   "cell_type": "code",
   "execution_count": null,
   "id": "1486ffed-bee4-4d33-9768-866a983edf63",
   "metadata": {},
   "outputs": [],
   "source": [
    "def objective(trial):\n",
    "    # Suggest values for the hyperparameters\n",
    "    n_estimators = trial.suggest_int('n_estimators', 10, 200)\n",
    "    max_depth = trial.suggest_int('max_depth', 1, 32)\n",
    "    min_samples_split = trial.suggest_int('min_samples_split', 2, 20)\n",
    "    min_samples_leaf = trial.suggest_int('min_samples_leaf', 1, 20)\n",
    "    \n",
    "    # Create a Random Forest Regressor with suggested hyperparameters\n",
    "    rf_model = RandomForestRegressor(\n",
    "        n_estimators=n_estimators,\n",
    "        max_depth=max_depth,\n",
    "        min_samples_split=min_samples_split,\n",
    "        min_samples_leaf=min_samples_leaf,\n",
    "        random_state=42\n",
    "    )\n",
    "    \n",
    "    # Fit the model\n",
    "    rf_model.fit(X_train, y_train)\n",
    "    \n",
    "    # Predict and return the MSE\n",
    "    y_pred_rf = rf_model.predict(X_test)\n",
    "    mse = mean_squared_error(y_test, y_pred_rf)\n",
    "    return mse\n",
    "\n",
    "# Create a study object\n",
    "study = optuna.create_study(direction='minimize')\n",
    "\n",
    "# Time monitoring\n",
    "n_trials = 100\n",
    "elapsed_times = []  # Store elapsed times for each trial\n",
    "\n",
    "for i in range(n_trials):\n",
    "    start_time = time.time()\n",
    "    \n",
    "    # Optimize the objective function\n",
    "    study.optimize(objective, n_trials=1)\n",
    "    \n",
    "    elapsed_time = time.time() - start_time\n",
    "    elapsed_times.append(elapsed_time)  # Store elapsed time\n",
    "    \n",
    "    print(f\"Trial {i + 1}/{n_trials} took {elapsed_time:.2f} seconds\")\n",
    "    \n",
    "    # Estimate total time using average elapsed time\n",
    "    average_time_per_trial = sum(elapsed_times) / len(elapsed_times)\n",
    "    estimated_total = average_time_per_trial * n_trials\n",
    "    print(f\"Estimated total time: {estimated_total / 60:.2f} minutes\")\n",
    "\n",
    "# Output the best hyperparameters\n",
    "print(\"Best hyperparameters: \", study.best_params)\n",
    "print(\"Best MSE: \", study.best_value)"
   ]
  },
  {
   "cell_type": "markdown",
   "id": "f7cb3341-393b-4af8-a4b8-a5f4d8f90fba",
   "metadata": {},
   "source": [
    "Trial 100/100 took 202.77 seconds\n",
    "Estimated total time: 276.37 minutes\n",
    "Best hyperparameters:  {'n_estimators': 148, 'max_depth': 32, 'min_samples_split': 5, 'min_samples_leaf': 1}\n",
    "Best MSE:  0.08027079699150788"
   ]
  },
  {
   "cell_type": "markdown",
   "id": "0a940a6a-b3e5-4179-a655-8941d014c90a",
   "metadata": {},
   "source": [
    "**SAVE MODEL**"
   ]
  },
  {
   "cell_type": "code",
   "execution_count": null,
   "id": "5441844d-550c-45df-a618-6d9ca48e38a2",
   "metadata": {},
   "outputs": [],
   "source": [
    "# Save the model with pickle\n",
    "model_file_path = r\"C:\\Users\\faval\\Desktop\\Ironhack\\DataAnalytics\\final_project\\moDels\\rf_model.pkl\"\n",
    "with open(model_file_path, \"wb\") as file:\n",
    "    pickle.dump(rf_model, file)"
   ]
  },
  {
   "cell_type": "markdown",
   "id": "53b4f627-b273-4930-9640-5416ab3ed93c",
   "metadata": {},
   "source": [
    "**FEATURE IMPORTANCE**"
   ]
  },
  {
   "cell_type": "code",
   "execution_count": null,
   "id": "21b2ad8a-96aa-41f1-9805-aff6df30ce45",
   "metadata": {},
   "outputs": [],
   "source": [
    "# Step 1: Get feature importances from the trained model\n",
    "feature_importances = rf_model.feature_importances_\n",
    "# Step 2: Create a DataFrame to hold features along with their importance\n",
    "importance_df = pd.DataFrame({\n",
    "    'Feature': X.columns,\n",
    "    'Importance': feature_importances})\n",
    "# Step 3: Sort the DataFrame by importance\n",
    "importance_df = importance_df.sort_values(by='Importance', ascending=True)\n",
    "# Step 4: Display the top features\n",
    "importance_df"
   ]
  },
  {
   "cell_type": "code",
   "execution_count": null,
   "id": "be96e6e1-151b-4cc8-89dd-190017c6dcc4",
   "metadata": {},
   "outputs": [],
   "source": [
    "# Visualize feature importances using a bar chart\n",
    "plt.figure(figsize=(12, 6))\n",
    "base_color = np.array([135/255, 206/255, 235/255])  # Light blue in RGB\n",
    "pastel_tones = [base_color * (0.1 * i) for i in range(10)]\n",
    "# Create a horizontal bar chart with varying tones of the base pastel color\n",
    "plt.barh(importance_df['Feature'][:10], importance_df['Importance'][:10], color=pastel_tones)\n",
    "# Add labels and title with improved font size and style\n",
    "plt.xlabel('Importance Score', fontsize=14, fontweight='bold')\n",
    "plt.ylabel('Features', fontsize=14, fontweight='bold')\n",
    "plt.title('Top 10 Feature Importances in Random Forest Model', fontsize=16, fontweight='bold')\n",
    "# Add gridlines for better visual appeal\n",
    "plt.grid(axis='x', linestyle='--', alpha=0.7)\n",
    "# Show the plot\n",
    "plt.show()"
   ]
  },
  {
   "cell_type": "code",
   "execution_count": null,
   "id": "8126d340-a75b-4175-b67f-8f3db7adf181",
   "metadata": {},
   "outputs": [],
   "source": []
  }
 ],
 "metadata": {
  "kernelspec": {
   "display_name": "Python 3 (ipykernel)",
   "language": "python",
   "name": "python3"
  },
  "language_info": {
   "codemirror_mode": {
    "name": "ipython",
    "version": 3
   },
   "file_extension": ".py",
   "mimetype": "text/x-python",
   "name": "python",
   "nbconvert_exporter": "python",
   "pygments_lexer": "ipython3",
   "version": "3.12.3"
  }
 },
 "nbformat": 4,
 "nbformat_minor": 5
}
