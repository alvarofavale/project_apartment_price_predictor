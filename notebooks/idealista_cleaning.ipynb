{
 "cells": [
  {
   "cell_type": "markdown",
   "id": "0dfa478d-207a-4baf-9065-9d30e9e0e446",
   "metadata": {},
   "source": [
    "# IDEALISTA DATA BASE"
   ]
  },
  {
   "cell_type": "code",
   "execution_count": 2,
   "id": "d6dcb214-20a6-445b-a094-ad66ba01c310",
   "metadata": {},
   "outputs": [],
   "source": [
    "# IMPORT LIBRARIES\n",
    "import pandas as pd\n",
    "import numpy as np\n",
    "import os\n",
    "import unidecode"
   ]
  },
  {
   "cell_type": "markdown",
   "id": "95a844bb-3120-4720-bf19-22e7625a37e0",
   "metadata": {},
   "source": [
    "### READ AND CLEAN DATASET"
   ]
  },
  {
   "cell_type": "code",
   "execution_count": 4,
   "id": "29d28b6c-416f-4cdc-ba75-77301fecf482",
   "metadata": {},
   "outputs": [
    {
     "name": "stderr",
     "output_type": "stream",
     "text": [
      "C:\\Users\\faval\\AppData\\Local\\Temp\\ipykernel_17152\\2007474822.py:1: DtypeWarning: Columns (24,25,61,80,84) have mixed types. Specify dtype option on import or set low_memory=False.\n",
      "  df = pd.read_csv(r\"C:\\Users\\faval\\Desktop\\Ironhack\\DataAnalytics\\final_project\\data\\raw\\idealista_output_etl.csv\", delimiter=';')\n"
     ]
    }
   ],
   "source": [
    "df = pd.read_csv(r\"C:\\Users\\faval\\Desktop\\Ironhack\\DataAnalytics\\final_project\\data\\raw\\idealista_output_etl.csv\", delimiter=';')"
   ]
  },
  {
   "cell_type": "code",
   "execution_count": 40,
   "id": "a0edd3e0-5e59-4975-a141-f9ee9e61b9d8",
   "metadata": {},
   "outputs": [
    {
     "data": {
      "text/plain": [
       "(379204, 25)"
      ]
     },
     "execution_count": 40,
     "metadata": {},
     "output_type": "execute_result"
    }
   ],
   "source": [
    "df.shape"
   ]
  },
  {
   "cell_type": "code",
   "execution_count": null,
   "id": "cb670300-1ad2-4802-98be-294b37541168",
   "metadata": {},
   "outputs": [],
   "source": [
    "df.info()"
   ]
  },
  {
   "cell_type": "code",
   "execution_count": null,
   "id": "ae18960f-ad8a-4733-bda7-1d8098c9e78c",
   "metadata": {},
   "outputs": [],
   "source": [
    "df.head()"
   ]
  },
  {
   "cell_type": "code",
   "execution_count": null,
   "id": "f783fbe4-e10c-424f-be1b-9319844d1ef0",
   "metadata": {},
   "outputs": [],
   "source": [
    "# SELECT THE SEGOVIA PROVINCE TO IMPORT A LIGHTER EXCEL FILE FOR BETTER UNDERSTANDING OF THE COLUMNS AND DATA WITHIN IT\n",
    "segovia_df = df[df['ad_province'] == 'Segovia']"
   ]
  },
  {
   "cell_type": "code",
   "execution_count": null,
   "id": "e1bc4849-8949-49d9-aa84-b4bf4d62e6e8",
   "metadata": {},
   "outputs": [],
   "source": [
    "save_path = r'C:\\Users\\faval\\Desktop\\Ironhack\\DataAnalytics\\final_project\\data\\clean'\n",
    "file_name = 'segovia_df.csv'\n",
    "full_path = os.path.join(save_path, file_name)\n",
    "segovia_df.to_csv(full_path, index=False, encoding='utf-8')"
   ]
  },
  {
   "cell_type": "code",
   "execution_count": 8,
   "id": "74ead3c9-0bff-4313-a013-f179ba29d6e8",
   "metadata": {},
   "outputs": [],
   "source": [
    "#SELECT COLUMNS TO KEEP\n",
    "columns_to_keep = [\"ad_province\", \"ad_town\", \"ad_postalcode\", \"ad_operation\", \"ad_typology\", \n",
    "    \"ad_propertytype\", \"ad_hasgarden\", \"ad_hasparkingspace\", \n",
    "    \"ad_hasswimmingpool\", \"ad_area\", \"ad_price\", \"ad_roomnumber\", \n",
    "    \"ad_activationdate\", \"ad_bathnumber\", \"ad_constructionyear\", \"ad_floornumber\", \n",
    "    \"ad_haslift\", \"ad_hasterrace\", \"ad_isintopfloor\", \"ad_latitude\", \"ad_longitude\", \n",
    "    \"adstats_contactsbyemail\", \"adstats_savedasfavorite\", \"adstats_sendtofriend\", \n",
    "    \"adstats_visits\"]\n",
    "df = df[columns_to_keep]"
   ]
  },
  {
   "cell_type": "code",
   "execution_count": 9,
   "id": "a9dbee2a-f7ef-41ab-a961-c5cc72c3ed28",
   "metadata": {},
   "outputs": [],
   "source": [
    "#FOR THIS STUDY ONLY KEEP PENINSULAR SPAIN\n",
    "provinces_to_exclude = [\"Ceuta\", \"País Vasco Francés\", \"Melilla\", \"Cerdanya Francesa\",\"Las Palmas\",\"Santa Cruz de Tenerife\", \"Balears (Illes)\", \"Andorra\" ]\n",
    "df = df[~df['ad_province'].isin(provinces_to_exclude)]"
   ]
  },
  {
   "cell_type": "code",
   "execution_count": 11,
   "id": "2d6128eb-022e-40ef-80da-3aebc77eefda",
   "metadata": {},
   "outputs": [],
   "source": [
    "df= df[df['ad_operation'] == 'Venta']"
   ]
  },
  {
   "cell_type": "code",
   "execution_count": 14,
   "id": "597dc38b-cfa9-419e-a115-e38a5b83ecce",
   "metadata": {},
   "outputs": [],
   "source": [
    "df= df[df['ad_typology'] == 'Piso']"
   ]
  },
  {
   "cell_type": "code",
   "execution_count": 16,
   "id": "bdb53214-c6b6-4f48-bb51-06f011a3f6bb",
   "metadata": {},
   "outputs": [],
   "source": [
    "# ad_floornumber: Define the replacements in a dictionary\n",
    "replacements = {'st': 0,'bj': 0, 'nan': 0,'ss': 0,'-2': 0,'-1': 0,'BJ': 0,'en': 1}\n",
    "df['ad_floornumber'] = df['ad_floornumber'].replace(replacements).fillna(0)"
   ]
  },
  {
   "cell_type": "code",
   "execution_count": 18,
   "id": "1d352e0e-e8d4-471c-a428-421f0934b855",
   "metadata": {},
   "outputs": [],
   "source": [
    "# HANDLE NULL VALUES: ad_haslift, ad_hasterrace, ad_isintopfloor\n",
    "columns_to_fill = ['ad_haslift', 'ad_hasterrace', 'ad_isintopfloor']\n",
    "# Fill NaN values with 0 for the specified columns\n",
    "df[columns_to_fill] = df[columns_to_fill].fillna(0)"
   ]
  },
  {
   "cell_type": "code",
   "execution_count": 20,
   "id": "284f9e51-a323-4164-82d9-737ad33fcfe1",
   "metadata": {},
   "outputs": [
    {
     "name": "stderr",
     "output_type": "stream",
     "text": [
      "C:\\Users\\faval\\AppData\\Local\\Temp\\ipykernel_17152\\3741720412.py:3: FutureWarning: Downcasting behavior in `replace` is deprecated and will be removed in a future version. To retain the old behavior, explicitly call `result.infer_objects(copy=False)`. To opt-in to the future behavior, set `pd.set_option('future.no_silent_downcasting', True)`\n",
      "  df['ad_newconstruction'] = df['ad_newconstruction'].replace({'Obra Nueva': 1, 'Segunda Mano': 0})\n"
     ]
    }
   ],
   "source": [
    "# CAST COLUMNS AS BOOLEAN: rename column, replace \"Second Hand\" and \"New Construction\" for 0 and 1\n",
    "df = df.rename(columns={'ad_propertytype': 'ad_newconstruction'})\n",
    "df['ad_newconstruction'] = df['ad_newconstruction'].replace({'Obra Nueva': 1, 'Segunda Mano': 0})"
   ]
  },
  {
   "cell_type": "code",
   "execution_count": 22,
   "id": "7fd5c1d3-0cec-456c-9100-79dcfed2388b",
   "metadata": {},
   "outputs": [
    {
     "name": "stderr",
     "output_type": "stream",
     "text": [
      "C:\\Users\\faval\\AppData\\Local\\Temp\\ipykernel_17152\\1185828415.py:3: FutureWarning: Downcasting behavior in `replace` is deprecated and will be removed in a future version. To retain the old behavior, explicitly call `result.infer_objects(copy=False)`. To opt-in to the future behavior, set `pd.set_option('future.no_silent_downcasting', True)`\n",
      "  df[columns_to_replace] = df[columns_to_replace].replace({'Yes': 1, 'No': 0})\n"
     ]
    }
   ],
   "source": [
    "# CAST COLUMNS AS BOOLEAN: first replace \"No\" and \"Yes\" for 0 and 1\n",
    "columns_to_replace = ['ad_hasgarden', 'ad_hasparkingspace', 'ad_hasswimmingpool']\n",
    "df[columns_to_replace] = df[columns_to_replace].replace({'Yes': 1, 'No': 0})"
   ]
  },
  {
   "cell_type": "code",
   "execution_count": 24,
   "id": "173156aa-5c08-4663-9715-f088439968da",
   "metadata": {},
   "outputs": [],
   "source": [
    "# CAST COLUMNS AS BOOLEAN\n",
    "columns_to_cast = ['ad_haslift', 'ad_hasterrace', 'ad_isintopfloor', \n",
    "                   'ad_hasgarden', 'ad_hasparkingspace', 'ad_hasswimmingpool','ad_newconstruction']\n",
    "df[columns_to_cast] = df[columns_to_cast].astype(bool)"
   ]
  },
  {
   "cell_type": "code",
   "execution_count": 26,
   "id": "90636d54-0784-4d2d-8f39-df9b7252002b",
   "metadata": {},
   "outputs": [],
   "source": [
    "# CAST COLUMNS AS INTEGER\n",
    "columns_to_cast_as_int = ['ad_roomnumber', 'ad_bathnumber', 'ad_floornumber']\n",
    "df[columns_to_cast_as_int] = df[columns_to_cast_as_int].astype(int)"
   ]
  },
  {
   "cell_type": "code",
   "execution_count": 28,
   "id": "9ed60341-b93b-467a-b7d3-4c81e6e50009",
   "metadata": {},
   "outputs": [],
   "source": [
    "# CAST COLUMNS AS DATE\n",
    "df['ad_activationdate'] = pd.to_datetime(df['ad_activationdate'], format='%Y-%m-%d')"
   ]
  },
  {
   "cell_type": "code",
   "execution_count": 30,
   "id": "cc482309-2b1d-451c-a87f-9d445dea47cc",
   "metadata": {},
   "outputs": [
    {
     "data": {
      "text/plain": [
       "True"
      ]
     },
     "execution_count": 30,
     "metadata": {},
     "output_type": "execute_result"
    }
   ],
   "source": [
    "# CHECK FOR DUPLICATES\n",
    "duplicates_exist = df.duplicated().any()\n",
    "duplicates_exist"
   ]
  },
  {
   "cell_type": "code",
   "execution_count": 32,
   "id": "46826122-33c9-4623-8659-5923fa905578",
   "metadata": {},
   "outputs": [],
   "source": [
    "# DROP DUPLICATES\n",
    "df = df.drop_duplicates()"
   ]
  },
  {
   "cell_type": "code",
   "execution_count": 34,
   "id": "e69dd8d2-c077-46ae-8c60-9d415ae6ebdf",
   "metadata": {},
   "outputs": [],
   "source": [
    "# DROP NULL VALUES\n",
    "df = df.dropna(subset=['adstats_contactsbyemail'])"
   ]
  },
  {
   "cell_type": "code",
   "execution_count": 36,
   "id": "71402e88-1467-4f93-a705-45267c31f1f9",
   "metadata": {},
   "outputs": [],
   "source": [
    "# FILTER FOR LAST 5 YEARS\n",
    "start_date = pd.Timestamp(\"2019-01-01\")\n",
    "df = df[(df['ad_activationdate'] >= start_date)]"
   ]
  },
  {
   "cell_type": "code",
   "execution_count": 38,
   "id": "7c47a625-4793-4a34-bca1-9025c1beb30e",
   "metadata": {},
   "outputs": [],
   "source": [
    "# CONVERT CHARACTERS WITH ACCENTS\n",
    "df['ad_province'] = df['ad_province'].apply(unidecode.unidecode)"
   ]
  },
  {
   "cell_type": "markdown",
   "id": "f8fe1bcc-9280-40b5-9b4b-1f414ffd88b3",
   "metadata": {},
   "source": [
    "### SAVE CLEAN DATASET"
   ]
  },
  {
   "cell_type": "code",
   "execution_count": null,
   "id": "afa5c679-c033-4093-820b-07bec7985f28",
   "metadata": {},
   "outputs": [],
   "source": [
    "save_path = r'C:\\Users\\faval\\Desktop\\Ironhack\\DataAnalytics\\final_project\\data\\clean'\n",
    "file_name = 'clean_idealista_output_etl.csv'\n",
    "full_path = os.path.join(save_path, file_name)\n",
    "df.to_csv(full_path, index=False, encoding='utf-8')"
   ]
  }
 ],
 "metadata": {
  "kernelspec": {
   "display_name": "Python 3 (ipykernel)",
   "language": "python",
   "name": "python3"
  },
  "language_info": {
   "codemirror_mode": {
    "name": "ipython",
    "version": 3
   },
   "file_extension": ".py",
   "mimetype": "text/x-python",
   "name": "python",
   "nbconvert_exporter": "python",
   "pygments_lexer": "ipython3",
   "version": "3.12.3"
  }
 },
 "nbformat": 4,
 "nbformat_minor": 5
}
